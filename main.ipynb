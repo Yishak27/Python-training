{
 "cells": [
  {
   "cell_type": "code",
   "execution_count": 18,
   "metadata": {},
   "outputs": [
    {
     "name": "stdout",
     "output_type": "stream",
     "text": [
      "year entered: 2024\n",
      "your age is: 26\n"
     ]
    }
   ],
   "source": [
    "import math\n",
    "\n",
    "def calculate_my_age(date):\n",
    "    return math.floor((date - 1998))\n",
    "\n",
    "def entry():\n",
    "    year = int(input(\"Enter your birth year\"))\n",
    "    print(f'year entered: {year}')\n",
    "    age = calculate_my_age(year)\n",
    "    print(f'your age is: {age}')\n",
    "\n",
    "if __name__ == \"__main__\":\n",
    "    entry()\n",
    "    "
   ]
  },
  {
   "cell_type": "code",
   "execution_count": null,
   "metadata": {},
   "outputs": [],
   "source": []
  },
  {
   "cell_type": "code",
   "execution_count": 7,
   "metadata": {},
   "outputs": [
    {
     "name": "stdout",
     "output_type": "stream",
     "text": [
      "2\n"
     ]
    }
   ],
   "source": [
    "a = 2\n",
    "b= 0\n",
    "c= a | b\n",
    "print(c)"
   ]
  },
  {
   "cell_type": "code",
   "execution_count": 5,
   "metadata": {},
   "outputs": [],
   "source": [
    "name = input('enter your name')\n",
    "try:\n",
    "    age = int(input('enter your age'))\n",
    "except ValueError:\n",
    "    print('you entered an invalid age')"
   ]
  },
  {
   "cell_type": "code",
   "execution_count": null,
   "metadata": {},
   "outputs": [],
   "source": [
    "def welcome(msg):\n",
    "    print(msg)\n",
    "print(\"Please enter your name:\")\n",
    "welcome(\"welcomess\")"
   ]
  },
  {
   "cell_type": "code",
   "execution_count": 7,
   "metadata": {},
   "outputs": [
    {
     "name": "stdout",
     "output_type": "stream",
     "text": [
      "1005\n"
     ]
    }
   ],
   "source": [
    "a = 1011\n",
    "b= 30\n",
    "c =a^b\n",
    "print(c)"
   ]
  },
  {
   "cell_type": "code",
   "execution_count": 11,
   "metadata": {},
   "outputs": [
    {
     "name": "stdout",
     "output_type": "stream",
     "text": [
      "endddddd\n"
     ]
    }
   ],
   "source": [
    "a = 4\n",
    "if(a == 2):\n",
    "    print('yeahhh')\n",
    "else:\n",
    "    print('endddddd')"
   ]
  },
  {
   "cell_type": "code",
   "execution_count": 15,
   "metadata": {},
   "outputs": [
    {
     "name": "stdout",
     "output_type": "stream",
     "text": [
      "False\n"
     ]
    }
   ],
   "source": [
    "def checkNumber(a, b):\n",
    "    return a < b\n",
    "\n",
    "if __name__ == \"__main__\":\n",
    "    print(checkNumber(11,2))"
   ]
  },
  {
   "cell_type": "code",
   "execution_count": null,
   "metadata": {},
   "outputs": [],
   "source": [
    "what = 1\n",
    "nothing = 2\n",
    "\n",
    "def printValues(value):\n",
    "    if(value==what):\n",
    "        print('yeah its whyy value')\n",
    "    elif(value==nothing):\n",
    "        print('yeah its values of nothing')\n",
    "    else:\n",
    "        print('none of the field')\n",
    "if __name__ == \"__main__\":\n",
    "    value = int(input('please enter value'))\n",
    "    if(value):\n",
    "        x = printValues(value)\n",
    "        print(x)\n",
    "    else:\n",
    "        print('No value is specified')\n"
   ]
  },
  {
   "cell_type": "code",
   "execution_count": 2,
   "metadata": {},
   "outputs": [
    {
     "name": "stdout",
     "output_type": "stream",
     "text": [
      "7\n"
     ]
    }
   ],
   "source": [
    "b = 9\n",
    "s= 3\n",
    "if(b==4):\n",
    "    value = 3\n",
    "elif(s==8):\n",
    "    value=9\n",
    "else:\n",
    "    value=7\n",
    "print(value)\n"
   ]
  },
  {
   "cell_type": "code",
   "execution_count": null,
   "metadata": {},
   "outputs": [
    {
     "name": "stdout",
     "output_type": "stream",
     "text": [
      "Successs\n"
     ]
    }
   ],
   "source": [
    "# make a customer to withdraw amount \n",
    "# if he is qualified and have balance\n",
    "\n",
    "age = int(input('enter your age'))\n",
    "balance = int(input('enter the balance'))\n",
    "total_balance = 10000.00\n",
    "if(age>=18 & balance <= total_balance):\n",
    "    print('Successs')\n",
    "else:\n",
    "    print('not eligable')\n"
   ]
  },
  {
   "cell_type": "code",
   "execution_count": 18,
   "metadata": {},
   "outputs": [
    {
     "name": "stdout",
     "output_type": "stream",
     "text": [
      "-1\n",
      "9\n",
      "19\n",
      "29\n",
      "39\n",
      "49\n",
      "59\n",
      "69\n",
      "79\n",
      "89\n",
      "99\n",
      "109\n",
      "119\n",
      "129\n",
      "139\n",
      "149\n",
      "159\n",
      "169\n",
      "179\n",
      "189\n",
      "199\n",
      "209\n",
      "219\n",
      "229\n",
      "239\n",
      "249\n",
      "259\n",
      "269\n",
      "279\n",
      "289\n",
      "299\n",
      "309\n",
      "319\n",
      "329\n",
      "339\n",
      "349\n",
      "359\n",
      "369\n",
      "379\n",
      "389\n",
      "399\n",
      "409\n",
      "419\n",
      "429\n",
      "439\n",
      "449\n",
      "459\n",
      "469\n",
      "479\n",
      "489\n",
      "499\n",
      "509\n",
      "519\n",
      "529\n",
      "539\n",
      "549\n",
      "559\n",
      "569\n",
      "579\n",
      "589\n",
      "599\n",
      "609\n",
      "619\n",
      "629\n",
      "639\n",
      "649\n",
      "659\n",
      "669\n",
      "679\n",
      "689\n",
      "699\n",
      "709\n",
      "719\n",
      "729\n",
      "739\n",
      "749\n",
      "759\n",
      "769\n",
      "779\n",
      "789\n",
      "799\n"
     ]
    }
   ],
   "source": [
    "#loop\n",
    "\n",
    "for a in range(-1,802,10):\n",
    "    print(a)"
   ]
  }
 ],
 "metadata": {
  "kernelspec": {
   "display_name": "Python 3",
   "language": "python",
   "name": "python3"
  },
  "language_info": {
   "codemirror_mode": {
    "name": "ipython",
    "version": 3
   },
   "file_extension": ".py",
   "mimetype": "text/x-python",
   "name": "python",
   "nbconvert_exporter": "python",
   "pygments_lexer": "ipython3",
   "version": "3.12.8"
  }
 },
 "nbformat": 4,
 "nbformat_minor": 2
}
