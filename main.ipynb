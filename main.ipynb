{
 "cells": [
  {
   "cell_type": "code",
   "execution_count": 18,
   "metadata": {},
   "outputs": [
    {
     "name": "stdout",
     "output_type": "stream",
     "text": [
      "year entered: 2024\n",
      "your age is: 26\n"
     ]
    }
   ],
   "source": [
    "import math\n",
    "\n",
    "def calculate_my_age(date):\n",
    "    return math.floor((date - 1998))\n",
    "\n",
    "def entry():\n",
    "    year = int(input(\"Enter your birth year\"))\n",
    "    print(f'year entered: {year}')\n",
    "    age = calculate_my_age(year)\n",
    "    print(f'your age is: {age}')\n",
    "\n",
    "if __name__ == \"__main__\":\n",
    "    entry()\n",
    "    "
   ]
  },
  {
   "cell_type": "code",
   "execution_count": null,
   "metadata": {},
   "outputs": [],
   "source": []
  },
  {
   "cell_type": "code",
   "execution_count": 7,
   "metadata": {},
   "outputs": [
    {
     "name": "stdout",
     "output_type": "stream",
     "text": [
      "2\n"
     ]
    }
   ],
   "source": [
    "a = 2\n",
    "b= 0\n",
    "c= a | b\n",
    "print(c)"
   ]
  },
  {
   "cell_type": "code",
   "execution_count": 5,
   "metadata": {},
   "outputs": [],
   "source": [
    "name = input('enter your name')\n",
    "try:\n",
    "    age = int(input('enter your age'))\n",
    "except ValueError:\n",
    "    print('you entered an invalid age')"
   ]
  },
  {
   "cell_type": "code",
   "execution_count": null,
   "metadata": {},
   "outputs": [],
   "source": [
    "def welcome(msg):\n",
    "    print(msg)\n",
    "print(\"Please enter your name:\")\n",
    "welcome(\"welcomess\")"
   ]
  }
 ],
 "metadata": {
  "kernelspec": {
   "display_name": "Python 3",
   "language": "python",
   "name": "python3"
  },
  "language_info": {
   "codemirror_mode": {
    "name": "ipython",
    "version": 3
   },
   "file_extension": ".py",
   "mimetype": "text/x-python",
   "name": "python",
   "nbconvert_exporter": "python",
   "pygments_lexer": "ipython3",
   "version": "3.12.8"
  }
 },
 "nbformat": 4,
 "nbformat_minor": 2
}
