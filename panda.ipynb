{
 "cells": [
  {
   "cell_type": "code",
   "execution_count": 27,
   "metadata": {},
   "outputs": [
    {
     "name": "stdout",
     "output_type": "stream",
     "text": [
      "0    1000\n",
      "1    2500\n",
      "2    4300\n",
      "3    1200\n",
      "4    5000\n",
      "Name: account, dtype: int64\n",
      "1    2500\n",
      "2    4300\n",
      "3    1200\n",
      "4    5000\n",
      "dtype: int64\n"
     ]
    }
   ],
   "source": [
    "import pandas as pd\n",
    "\n",
    "# df = pd.read_json(\"users.csv\")\n",
    "# df.describe()\n",
    "balances = [1000, 2500, 4300, 1200, 5000]\n",
    "print(pd.Series(balances,name='account'))\n",
    "series = pd.Series(balances)\n",
    "new = series[series > 1000]\n",
    "print(new)\n",
    "# pd.pivot()"
   ]
  },
  {
   "cell_type": "code",
   "execution_count": 30,
   "metadata": {},
   "outputs": [
    {
     "name": "stdout",
     "output_type": "stream",
     "text": [
      "   Customer ID     Name  Account Balance Account Type\n",
      "0          101    Alice             3000      Savings\n",
      "1          102      Bob             1500     Checking\n",
      "2          103  Charlie             4000      Savings\n"
     ]
    }
   ],
   "source": [
    "data = {\n",
    "\"Customer ID\": [101, 102, 103, 104],\n",
    "\"Name\": [\"Alice\", \"Bob\", \"Charlie\", \"David\"],\n",
    "\"Account Balance\": [3000, 1500, 4000, 800],\n",
    "\"Account Type\": [\"Savings\", \"Checking\", \"Savings\",\n",
    "\"Checking\"]\n",
    "}\n",
    "\n",
    "frame = pd.DataFrame(data)\n",
    "# print(frame)\n",
    "\n",
    "print(frame.head(3))"
   ]
  },
  {
   "cell_type": "code",
   "execution_count": null,
   "metadata": {},
   "outputs": [
    {
     "name": "stdout",
     "output_type": "stream",
     "text": [
      "      Name  Account Balance\n",
      "0    Alice             3000\n",
      "1      Bob             1500\n",
      "2  Charlie             4000\n",
      "3    David              800\n"
     ]
    }
   ],
   "source": [
    "data = {\n",
    "\"Customer ID\": [101, 102, 103, 104],\n",
    "\"Name\": [\"Alice\", \"Bob\", \"Charlie\", \"David\"],\n",
    "\"Account Balance\": [3000, 1500, 100, 800],\n",
    "\"Account Type\": [\"Savings\", \"Checking\", \"Savings\",\n",
    "\"Checking\"]\n",
    "}\n",
    "\n",
    "# print(pd.DataFrame(data).tail(3))\n",
    "balances_df = pd.DataFrame(data)\n",
    "print(balances_df)"
   ]
  },
  {
   "cell_type": "code",
   "execution_count": 45,
   "metadata": {},
   "outputs": [
    {
     "ename": "SyntaxError",
     "evalue": "cannot assign to function call here. Maybe you meant '==' instead of '='? (3787089884.py, line 2)",
     "output_type": "error",
     "traceback": [
      "\u001b[1;36m  Cell \u001b[1;32mIn[45], line 2\u001b[1;36m\u001b[0m\n\u001b[1;33m    balances_df.loc(balances_df[\"Name\"] == \"Alice\", [\"Account Type\"]) = \"premium\"\u001b[0m\n\u001b[1;37m    ^\u001b[0m\n\u001b[1;31mSyntaxError\u001b[0m\u001b[1;31m:\u001b[0m cannot assign to function call here. Maybe you meant '==' instead of '='?\n"
     ]
    }
   ],
   "source": [
    "# updating\n",
    "balances_df.loc(balances_df[\"Name\"] == \"Alice\", [\"Account Type\"]) = \"premium\"\n",
    "print(balances_df)"
   ]
  },
  {
   "cell_type": "code",
   "execution_count": 61,
   "metadata": {},
   "outputs": [
    {
     "name": "stdout",
     "output_type": "stream",
     "text": [
      "['Low balance']\n",
      "   Customer ID   Name  Account Balance Account Type\n",
      "3          104  David              800     Checking\n"
     ]
    }
   ],
   "source": [
    "new_balance = pd.DataFrame(data)\n",
    "balance = new_balance[new_balance[\"Account Balance\"] < 1000]\n",
    "\n",
    "low = [\"Low balance\" if a < 1000 else 'No' for a in balance[\"Account Balance\"]]\n",
    "print(low)\n",
    "print(balance)"
   ]
  },
  {
   "cell_type": "markdown",
   "metadata": {},
   "source": [
    "Data cleaning"
   ]
  },
  {
   "cell_type": "code",
   "execution_count": 67,
   "metadata": {},
   "outputs": [
    {
     "name": "stdout",
     "output_type": "stream",
     "text": [
      "   Customer ID   Name  Account Balance  Account Type\n",
      "0        False  False            False         False\n",
      "1        False  False             True         False\n",
      "2        False  False            False          True\n",
      "3        False   True            False         False\n",
      "4        False  False            False         False\n"
     ]
    }
   ],
   "source": [
    "data = {\n",
    "\"Customer ID\": [101, 102, 103, 104, 105],\n",
    "\"Name\": [\"Alice\", \"Bob\", \"Charlie\", None, \"Eve\"],\n",
    "\"Account Balance\": [3000, None, 4000, 500, 1000],\n",
    "\"Account Type\": [\"Savings\", \"Checking\", None, \"Checking\",\n",
    "\"Savings\"]\n",
    "}\n",
    "\n",
    "print(pd.DataFrame(data).isnull())"
   ]
  },
  {
   "cell_type": "code",
   "execution_count": null,
   "metadata": {},
   "outputs": [],
   "source": []
  }
 ],
 "metadata": {
  "kernelspec": {
   "display_name": "Python 3",
   "language": "python",
   "name": "python3"
  },
  "language_info": {
   "codemirror_mode": {
    "name": "ipython",
    "version": 3
   },
   "file_extension": ".py",
   "mimetype": "text/x-python",
   "name": "python",
   "nbconvert_exporter": "python",
   "pygments_lexer": "ipython3",
   "version": "3.12.8"
  }
 },
 "nbformat": 4,
 "nbformat_minor": 2
}
