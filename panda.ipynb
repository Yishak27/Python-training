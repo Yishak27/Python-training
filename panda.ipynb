{
 "cells": [
  {
   "cell_type": "code",
   "execution_count": 27,
   "metadata": {},
   "outputs": [
    {
     "name": "stdout",
     "output_type": "stream",
     "text": [
      "0    1000\n",
      "1    2500\n",
      "2    4300\n",
      "3    1200\n",
      "4    5000\n",
      "Name: account, dtype: int64\n",
      "1    2500\n",
      "2    4300\n",
      "3    1200\n",
      "4    5000\n",
      "dtype: int64\n"
     ]
    }
   ],
   "source": [
    "import pandas as pd\n",
    "\n",
    "# df = pd.read_json(\"users.csv\")\n",
    "# df.describe()\n",
    "balances = [1000, 2500, 4300, 1200, 5000]\n",
    "print(pd.Series(balances,name='account'))\n",
    "series = pd.Series(balances)\n",
    "new = series[series > 1000]\n",
    "print(new)\n",
    "# pd.pivot()"
   ]
  },
  {
   "cell_type": "code",
   "execution_count": 30,
   "metadata": {},
   "outputs": [
    {
     "name": "stdout",
     "output_type": "stream",
     "text": [
      "   Customer ID     Name  Account Balance Account Type\n",
      "0          101    Alice             3000      Savings\n",
      "1          102      Bob             1500     Checking\n",
      "2          103  Charlie             4000      Savings\n"
     ]
    }
   ],
   "source": [
    "data = {\n",
    "\"Customer ID\": [101, 102, 103, 104],\n",
    "\"Name\": [\"Alice\", \"Bob\", \"Charlie\", \"David\"],\n",
    "\"Account Balance\": [3000, 1500, 4000, 800],\n",
    "\"Account Type\": [\"Savings\", \"Checking\", \"Savings\",\n",
    "\"Checking\"]\n",
    "}\n",
    "\n",
    "frame = pd.DataFrame(data)\n",
    "# print(frame)\n",
    "\n",
    "print(frame.head(3))"
   ]
  },
  {
   "cell_type": "code",
   "execution_count": 32,
   "metadata": {},
   "outputs": [
    {
     "name": "stdout",
     "output_type": "stream",
     "text": [
      "      Name  Account Balance\n",
      "0    Alice             3000\n",
      "1      Bob             1500\n",
      "2  Charlie             4000\n",
      "3    David              800\n"
     ]
    }
   ],
   "source": [
    "data = {\n",
    "\"Customer ID\": [101, 102, 103, 104],\n",
    "\"Name\": [\"Alice\", \"Bob\", \"Charlie\", \"David\"],\n",
    "\"Account Balance\": [3000, 1500, 4000, 800],\n",
    "\"Account Type\": [\"Savings\", \"Checking\", \"Savings\",\n",
    "\"Checking\"]\n",
    "}\n",
    "\n",
    "# print(pd.DataFrame(data).tail(3))\n",
    "balances_df = pd.DataFrame(data)[[\"Name\", \"Account Balance\"]]\n",
    "print(balances_df)"
   ]
  }
 ],
 "metadata": {
  "kernelspec": {
   "display_name": "Python 3",
   "language": "python",
   "name": "python3"
  },
  "language_info": {
   "codemirror_mode": {
    "name": "ipython",
    "version": 3
   },
   "file_extension": ".py",
   "mimetype": "text/x-python",
   "name": "python",
   "nbconvert_exporter": "python",
   "pygments_lexer": "ipython3",
   "version": "3.12.8"
  }
 },
 "nbformat": 4,
 "nbformat_minor": 2
}
