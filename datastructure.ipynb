{
 "cells": [
  {
   "cell_type": "code",
   "execution_count": 51,
   "metadata": {},
   "outputs": [
    {
     "name": "stdout",
     "output_type": "stream",
     "text": [
      "first print ['ma', 'bsc', 'cs']\n",
      "second ['ma', 'bsc', 'cs', 'newDegre']\n",
      "degreee1 ['last', '2', 'last1', 'cs', 'newDegre']\n",
      "degree1 ['2', 'cs', 'last', 'last1', 'newDegre']\n",
      "['last', 'last1', 'cs', 'newDegre']\n",
      "True\n",
      "4\n"
     ]
    }
   ],
   "source": [
    "# datastructure and algorithm\n",
    "\n",
    "degree = [\"ma\",\"bsc\"]\n",
    "\n",
    "degree.insert(2,'cs')\n",
    "\n",
    "print('first print', degree)\n",
    "\n",
    "degree.append('newDegre')\n",
    "print('second', degree)\n",
    "\n",
    "degree[-0]=\"last\"\n",
    "degree[-3]=\"last1\"\n",
    "\n",
    "degree1 = degree.copy()\n",
    "degree1.insert(1,\"2\")\n",
    "print('degreee1',degree1)\n",
    "degree1.sort()\n",
    "print('degree1',degree1)\n",
    "\n",
    "# degree.clear()\n",
    "print(degree)\n",
    "\n",
    "print( \"last\" in degree)\n",
    "print(len(degree))"
   ]
  },
  {
   "cell_type": "code",
   "execution_count": 52,
   "metadata": {},
   "outputs": [
    {
     "name": "stdout",
     "output_type": "stream",
     "text": [
      "['cat']\n"
     ]
    }
   ],
   "source": [
    "list = [\"cat\",\"dog\"]\n",
    "list.pop()\n",
    "print(list)"
   ]
  },
  {
   "cell_type": "code",
   "execution_count": null,
   "metadata": {},
   "outputs": [],
   "source": [
    "number = ('one','two',3,'four',5)\n",
    "number[0] = 1\n",
    "print(number)"
   ]
  },
  {
   "cell_type": "code",
   "execution_count": 62,
   "metadata": {},
   "outputs": [
    {
     "name": "stdout",
     "output_type": "stream",
     "text": [
      "one\n",
      "dict_keys(['value', 'key'])\n",
      "{'value': '400', 'key': 'one'}\n"
     ]
    }
   ],
   "source": [
    "# dictionary\n",
    "latest_value = {\n",
    "    \"value\":\"400\",\n",
    "    \"key\":\"one\"\n",
    "}\n",
    "print(latest_value.get(\"key\"))\n",
    "print(latest_value.keys())\n",
    "print(latest_value)"
   ]
  },
  {
   "cell_type": "markdown",
   "metadata": {},
   "source": [
    "Sets"
   ]
  },
  {
   "cell_type": "code",
   "execution_count": 96,
   "metadata": {},
   "outputs": [
    {
     "name": "stdout",
     "output_type": "stream",
     "text": [
      "coursr {'python', 'js', 'java'}\n",
      "False\n",
      "{'c', 'js', 'python', 'java'}\n",
      "{'java'}\n",
      "{'python', 'js', 'java'}\n"
     ]
    }
   ],
   "source": [
    "course = {'java','js'}\n",
    "course.add('python')\n",
    "\n",
    "print('coursr',course)\n",
    "newcourse = {'c','java'}\n",
    "diff = course.difference(course,newcourse)\n",
    "course.discard('java')\n",
    "course.add('java')\n",
    "diff = course.intersection(newcourse)\n",
    "print(course.isdisjoint(newcourse))\n",
    "print(course.union(newcourse))\n",
    "print(diff)\n",
    "\n",
    "print(course)"
   ]
  }
 ],
 "metadata": {
  "kernelspec": {
   "display_name": "Python 3",
   "language": "python",
   "name": "python3"
  },
  "language_info": {
   "codemirror_mode": {
    "name": "ipython",
    "version": 3
   },
   "file_extension": ".py",
   "mimetype": "text/x-python",
   "name": "python",
   "nbconvert_exporter": "python",
   "pygments_lexer": "ipython3",
   "version": "3.12.8"
  }
 },
 "nbformat": 4,
 "nbformat_minor": 2
}
