{
 "cells": [
  {
   "cell_type": "code",
   "execution_count": 51,
   "metadata": {},
   "outputs": [
    {
     "name": "stdout",
     "output_type": "stream",
     "text": [
      "first print ['ma', 'bsc', 'cs']\n",
      "second ['ma', 'bsc', 'cs', 'newDegre']\n",
      "degreee1 ['last', '2', 'last1', 'cs', 'newDegre']\n",
      "degree1 ['2', 'cs', 'last', 'last1', 'newDegre']\n",
      "['last', 'last1', 'cs', 'newDegre']\n",
      "True\n",
      "4\n"
     ]
    }
   ],
   "source": [
    "# datastructure and algorithm\n",
    "\n",
    "degree = [\"ma\",\"bsc\"]\n",
    "\n",
    "degree.insert(2,'cs')\n",
    "\n",
    "print('first print', degree)\n",
    "\n",
    "degree.append('newDegre')\n",
    "print('second', degree)\n",
    "\n",
    "degree[-0]=\"last\"\n",
    "degree[-3]=\"last1\"\n",
    "\n",
    "degree1 = degree.copy()\n",
    "degree1.insert(1,\"2\")\n",
    "print('degreee1',degree1)\n",
    "degree1.sort()\n",
    "print('degree1',degree1)\n",
    "\n",
    "# degree.clear()\n",
    "print(degree)\n",
    "\n",
    "print( \"last\" in degree)\n",
    "print(len(degree))"
   ]
  },
  {
   "cell_type": "code",
   "execution_count": 52,
   "metadata": {},
   "outputs": [
    {
     "name": "stdout",
     "output_type": "stream",
     "text": [
      "['cat']\n"
     ]
    }
   ],
   "source": [
    "lists = [\"cat\",\"dog\"]\n",
    "lists.pop()\n",
    "print(lists)"
   ]
  },
  {
   "cell_type": "code",
   "execution_count": null,
   "metadata": {},
   "outputs": [],
   "source": [
    "number = ('one','two',3,'four',5)\n",
    "number[0] = 1\n",
    "print(number)"
   ]
  },
  {
   "cell_type": "code",
   "execution_count": 62,
   "metadata": {},
   "outputs": [
    {
     "name": "stdout",
     "output_type": "stream",
     "text": [
      "one\n",
      "dict_keys(['value', 'key'])\n",
      "{'value': '400', 'key': 'one'}\n"
     ]
    }
   ],
   "source": [
    "# dictionary\n",
    "latest_value = {\n",
    "    \"value\":\"400\",\n",
    "    \"key\":\"one\"\n",
    "}\n",
    "print(latest_value.get(\"key\"))\n",
    "print(latest_value.keys())\n",
    "print(latest_value)"
   ]
  },
  {
   "cell_type": "markdown",
   "metadata": {},
   "source": [
    "Sets"
   ]
  },
  {
   "cell_type": "code",
   "execution_count": 96,
   "metadata": {},
   "outputs": [
    {
     "name": "stdout",
     "output_type": "stream",
     "text": [
      "coursr {'python', 'js', 'java'}\n",
      "False\n",
      "{'c', 'js', 'python', 'java'}\n",
      "{'java'}\n",
      "{'python', 'js', 'java'}\n"
     ]
    }
   ],
   "source": [
    "course = {'java','js'}\n",
    "course.add('python')\n",
    "\n",
    "print('coursr',course)\n",
    "newcourse = {'c','java'}\n",
    "diff = course.difference(course,newcourse)\n",
    "course.discard('java')\n",
    "course.add('java')\n",
    "diff = course.intersection(newcourse)\n",
    "print(course.isdisjoint(newcourse))\n",
    "print(course.union(newcourse))\n",
    "print(diff)\n",
    "\n",
    "print(course)"
   ]
  },
  {
   "cell_type": "markdown",
   "metadata": {},
   "source": [
    "Advanced dsa"
   ]
  },
  {
   "cell_type": "code",
   "execution_count": 113,
   "metadata": {},
   "outputs": [
    {
     "name": "stdout",
     "output_type": "stream",
     "text": [
      "[0, 1, 8, 27, 64, 125, 216, 343, 512, 729]\n",
      "[0, 27, 216, 729]\n",
      "3\n",
      "['even', 'Odd', 'even', 'Odd', 'even', 'Odd', 'even', 'Odd', 'even', 'Odd']\n"
     ]
    }
   ],
   "source": [
    "# list comprehantion\n",
    "def squer(x):\n",
    "    return x**3\n",
    "squerNumber = [squer(a) for a in range(10)]\n",
    "print(squerNumber)\n",
    "print([a for a in squerNumber if a % 3 == 0 ])\n",
    "\n",
    "def whatValue(s):\n",
    "    if(str(s)):\n",
    "        return s\n",
    "    else:\n",
    "        return squer(s)\n",
    "    \n",
    "if '__main__' == __name__:\n",
    "    print(whatValue(3))\n",
    "\n",
    "\n",
    "print([\"even\" if x %2==0 else \"Odd\" for x in range(10)])\n"
   ]
  },
  {
   "cell_type": "markdown",
   "metadata": {},
   "source": [
    "Neted List\n"
   ]
  },
  {
   "cell_type": "code",
   "execution_count": 123,
   "metadata": {},
   "outputs": [
    {
     "name": "stdout",
     "output_type": "stream",
     "text": [
      "[1, 2, 4, 3, 5]\n",
      "[[1, 2, 4], [3], [5]]\n"
     ]
    }
   ],
   "source": [
    "#  nested list\n",
    "lists = [[1,2,4],[3],[5]]\n",
    "nested = [list for sub in lists for list in sub]\n",
    "print(nested)\n",
    "print(lists)\n",
    "\n",
    "\n",
    "\n"
   ]
  },
  {
   "cell_type": "code",
   "execution_count": 125,
   "metadata": {},
   "outputs": [
    {
     "name": "stdout",
     "output_type": "stream",
     "text": [
      "[0, 4, 16, 36, 64]\n",
      "[0, 4, 16, 36, 64]\n"
     ]
    }
   ],
   "source": [
    "\n",
    "result = []\n",
    "for x in range(10):\n",
    "    if(x %2==0):\n",
    "        result.append(x**2)\n",
    "print(result)\n",
    "\n",
    "# in short way\n",
    "\n",
    "print([x **2 for x in range(10) if x %2 == 0])\n"
   ]
  },
  {
   "cell_type": "code",
   "execution_count": 133,
   "metadata": {},
   "outputs": [
    {
     "name": "stdout",
     "output_type": "stream",
     "text": [
      "3\n",
      "[{'new': 10, 'old': 3}]\n"
     ]
    }
   ],
   "source": [
    "# dictionary with a good way\n",
    "\n",
    "transaction = {\n",
    "   \"alice\": {\"new\":10, \"old\":3}\n",
    "}\n",
    "new  =transaction[\"alice\"][\"old\"]\n",
    "print(new)\n",
    "\n",
    "old = [\n",
    "    {\"new\":10, \"old\":3}\n",
    "]\n",
    "print(old[0])"
   ]
  }
 ],
 "metadata": {
  "kernelspec": {
   "display_name": "Python 3",
   "language": "python",
   "name": "python3"
  },
  "language_info": {
   "codemirror_mode": {
    "name": "ipython",
    "version": 3
   },
   "file_extension": ".py",
   "mimetype": "text/x-python",
   "name": "python",
   "nbconvert_exporter": "python",
   "pygments_lexer": "ipython3",
   "version": "3.12.8"
  }
 },
 "nbformat": 4,
 "nbformat_minor": 2
}
