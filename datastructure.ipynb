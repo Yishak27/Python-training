{
 "cells": [
  {
   "cell_type": "code",
   "execution_count": 15,
   "metadata": {},
   "outputs": [
    {
     "name": "stdout",
     "output_type": "stream",
     "text": [
      "first print ['ma', 'bsc', 'cs']\n",
      "second ['ma', 'bsc', 'cs', 'newDegre']\n",
      "['last', 'last1', 'cs', 'newDegre']\n"
     ]
    }
   ],
   "source": [
    "# datastructure and algorithm\n",
    "\n",
    "degree = [\"ma\",\"bsc\"]\n",
    "\n",
    "degree.insert(2,'cs')\n",
    "\n",
    "print('first print', degree)\n",
    "\n",
    "degree.append('newDegre')\n",
    "print('second', degree)\n",
    "\n",
    "degree[-0]=\"last\"\n",
    "degree[-3]=\"last1\"\n",
    "\n",
    "print(degree)"
   ]
  }
 ],
 "metadata": {
  "kernelspec": {
   "display_name": "Python 3",
   "language": "python",
   "name": "python3"
  },
  "language_info": {
   "codemirror_mode": {
    "name": "ipython",
    "version": 3
   },
   "file_extension": ".py",
   "mimetype": "text/x-python",
   "name": "python",
   "nbconvert_exporter": "python",
   "pygments_lexer": "ipython3",
   "version": "3.12.8"
  }
 },
 "nbformat": 4,
 "nbformat_minor": 2
}
